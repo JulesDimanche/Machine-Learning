{
  "nbformat": 4,
  "nbformat_minor": 0,
  "metadata": {
    "colab": {
      "provenance": [],
      "authorship_tag": "ABX9TyM9zPs3M2+y88iCK1HSiUr+",
      "include_colab_link": true
    },
    "kernelspec": {
      "name": "python3",
      "display_name": "Python 3"
    },
    "language_info": {
      "name": "python"
    }
  },
  "cells": [
    {
      "cell_type": "markdown",
      "metadata": {
        "id": "view-in-github",
        "colab_type": "text"
      },
      "source": [
        "<a href=\"https://colab.research.google.com/github/JulesDimanche/Machine-Learning/blob/main/Lasso_Regression.ipynb\" target=\"_parent\"><img src=\"https://colab.research.google.com/assets/colab-badge.svg\" alt=\"Open In Colab\"/></a>"
      ]
    },
    {
      "cell_type": "code",
      "execution_count": 1,
      "metadata": {
        "id": "DWZXq0Wz8O0t"
      },
      "outputs": [],
      "source": [
        "import numpy as np"
      ]
    },
    {
      "cell_type": "code",
      "source": [
        "class Lasso_Regression:\n",
        "  def __init__(self,learning_rate,epoch,lambda_parameter):\n",
        "    self.learning_rate=learning_rate\n",
        "    self.epoch=epoch\n",
        "    self.lambda_parameter=lambda_parameter\n",
        "  def fit(self,x,y):\n",
        "    self.x=x\n",
        "    self.y=y\n",
        "    self.m,self.n=x.shape\n",
        "    self.w=np.zeros(self.n)\n",
        "    self.b=0\n",
        "\n",
        "    for _ in range(self.epoch):\n",
        "      self.update_weight()\n",
        "  def update_weight(self):\n",
        "    y_predict=self.predict(self.x)\n",
        "    dw=np.zeros(self.n)\n",
        "    for i in range(self.n):\n",
        "      if self.w[i]>0:\n",
        "        dw[i]=(-2*(self.x[:,i].dot(self.y-y_predict))+self.lambda_parameter)/self.m\n",
        "      else:\n",
        "        dw[i]=(-2*(self.x[:,i].dot(self.y-y_predict))-self.lambda_paramete)/self.m\n",
        "    db=(-2*np.sum(self.y-y_predict))/self.m\n",
        "    self.w=self.w-self.learning_rate*dw\n",
        "    self.b=self.b-self.learning_rate*db\n",
        "  def predict(self,x):\n",
        "    return x.dot(self.w)+self.b"
      ],
      "metadata": {
        "id": "VJsXVlM6Mcn5"
      },
      "execution_count": 3,
      "outputs": []
    }
  ]
}