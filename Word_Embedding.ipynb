{
  "nbformat": 4,
  "nbformat_minor": 0,
  "metadata": {
    "colab": {
      "provenance": [],
      "gpuType": "T4",
      "authorship_tag": "ABX9TyMHNQJFC4Nb2ICcgJeQrW+i",
      "include_colab_link": true
    },
    "kernelspec": {
      "name": "python3",
      "display_name": "Python 3"
    },
    "language_info": {
      "name": "python"
    },
    "accelerator": "GPU"
  },
  "cells": [
    {
      "cell_type": "markdown",
      "metadata": {
        "id": "view-in-github",
        "colab_type": "text"
      },
      "source": [
        "<a href=\"https://colab.research.google.com/github/JulesDimanche/Machine-Learning/blob/main/Word_Embedding.ipynb\" target=\"_parent\"><img src=\"https://colab.research.google.com/assets/colab-badge.svg\" alt=\"Open In Colab\"/></a>"
      ]
    },
    {
      "cell_type": "code",
      "execution_count": null,
      "metadata": {
        "colab": {
          "base_uri": "https://localhost:8080/"
        },
        "collapsed": true,
        "id": "vWv2s_S2AZUm",
        "outputId": "356cb006-5f89-4ad5-8a49-79b76214d386"
      },
      "outputs": [
        {
          "output_type": "stream",
          "name": "stdout",
          "text": [
            "Collecting tensorflow-gpu\n",
            "  Using cached tensorflow-gpu-2.12.0.tar.gz (2.6 kB)\n",
            "  \u001b[1;31merror\u001b[0m: \u001b[1msubprocess-exited-with-error\u001b[0m\n",
            "  \n",
            "  \u001b[31m×\u001b[0m \u001b[32mpython setup.py egg_info\u001b[0m did not run successfully.\n",
            "  \u001b[31m│\u001b[0m exit code: \u001b[1;36m1\u001b[0m\n",
            "  \u001b[31m╰─>\u001b[0m See above for output.\n",
            "  \n",
            "  \u001b[1;35mnote\u001b[0m: This error originates from a subprocess, and is likely not a problem with pip.\n",
            "  Preparing metadata (setup.py) ... \u001b[?25l\u001b[?25herror\n",
            "\u001b[1;31merror\u001b[0m: \u001b[1mmetadata-generation-failed\u001b[0m\n",
            "\n",
            "\u001b[31m×\u001b[0m Encountered error while generating package metadata.\n",
            "\u001b[31m╰─>\u001b[0m See above for output.\n",
            "\n",
            "\u001b[1;35mnote\u001b[0m: This is an issue with the package mentioned above, not pip.\n",
            "\u001b[1;36mhint\u001b[0m: See above for details.\n"
          ]
        }
      ],
      "source": [
        "!pip install tensorflow-gpu"
      ]
    },
    {
      "cell_type": "code",
      "source": [
        "from tensorflow.keras.preprocessing.text import one_hot"
      ],
      "metadata": {
        "id": "7I_u8sHKAnO0"
      },
      "execution_count": null,
      "outputs": []
    },
    {
      "cell_type": "code",
      "source": [
        "sent=['the glass of milk','the glass of juice','the cup of tea','I am good boy','I am good developer','I am not a good developer']"
      ],
      "metadata": {
        "id": "l0bHGmIpBKBS"
      },
      "execution_count": null,
      "outputs": []
    },
    {
      "cell_type": "code",
      "source": [
        "sent"
      ],
      "metadata": {
        "colab": {
          "base_uri": "https://localhost:8080/"
        },
        "id": "ZAG50DCJBwSu",
        "outputId": "15630b7a-8379-416c-cfc6-fc241ed1ebd4"
      },
      "execution_count": null,
      "outputs": [
        {
          "output_type": "execute_result",
          "data": {
            "text/plain": [
              "['the glass of milk',\n",
              " 'the glass of juice',\n",
              " 'the cup of tea',\n",
              " 'I am good boy',\n",
              " 'I am good developer',\n",
              " 'I am not a good developer']"
            ]
          },
          "metadata": {},
          "execution_count": 17
        }
      ]
    },
    {
      "cell_type": "code",
      "source": [
        "voc_size=1000"
      ],
      "metadata": {
        "id": "YpNI185NBw7y"
      },
      "execution_count": null,
      "outputs": []
    },
    {
      "cell_type": "code",
      "source": [
        "onehot=[one_hot(word,voc_size)for word in sent]\n",
        "onehot"
      ],
      "metadata": {
        "colab": {
          "base_uri": "https://localhost:8080/"
        },
        "id": "XxVaRAFTCSPR",
        "outputId": "be0b5821-c199-4514-f6fc-37846f7ee34c"
      },
      "execution_count": null,
      "outputs": [
        {
          "output_type": "execute_result",
          "data": {
            "text/plain": [
              "[[200, 946, 692, 337],\n",
              " [200, 946, 692, 449],\n",
              " [200, 456, 692, 989],\n",
              " [198, 872, 753, 471],\n",
              " [198, 872, 753, 821],\n",
              " [198, 872, 343, 5, 753, 821]]"
            ]
          },
          "metadata": {},
          "execution_count": 19
        }
      ]
    },
    {
      "cell_type": "code",
      "source": [
        "from tensorflow.keras.layers import Embedding\n",
        "from tensorflow.keras.preprocessing.sequence import pad_sequences\n",
        "from tensorflow.keras.models import Sequential"
      ],
      "metadata": {
        "id": "tMXnZqphCbx3"
      },
      "execution_count": null,
      "outputs": []
    },
    {
      "cell_type": "code",
      "source": [
        "import numpy as np"
      ],
      "metadata": {
        "id": "t8SFvvXiECEw"
      },
      "execution_count": null,
      "outputs": []
    },
    {
      "cell_type": "markdown",
      "source": [
        "Padding"
      ],
      "metadata": {
        "id": "F6EFQOlFFh0W"
      }
    },
    {
      "cell_type": "code",
      "source": [
        "#pre padding\n",
        "#padding is to make the input size as same.\n",
        "sent_length=8 #take length that is more than max sent length\n",
        "embed_doc=pad_sequences(onehot,padding='pre',maxlen=sent_length)\n",
        "embed_doc"
      ],
      "metadata": {
        "colab": {
          "base_uri": "https://localhost:8080/"
        },
        "id": "FDWS1jX1EHH5",
        "outputId": "1137e0a1-1a15-401b-d328-6ba58c3927c6"
      },
      "execution_count": null,
      "outputs": [
        {
          "output_type": "execute_result",
          "data": {
            "text/plain": [
              "array([[  0,   0,   0,   0, 200, 946, 692, 337],\n",
              "       [  0,   0,   0,   0, 200, 946, 692, 449],\n",
              "       [  0,   0,   0,   0, 200, 456, 692, 989],\n",
              "       [  0,   0,   0,   0, 198, 872, 753, 471],\n",
              "       [  0,   0,   0,   0, 198, 872, 753, 821],\n",
              "       [  0,   0, 198, 872, 343,   5, 753, 821]], dtype=int32)"
            ]
          },
          "metadata": {},
          "execution_count": 20
        }
      ]
    },
    {
      "cell_type": "code",
      "source": [
        "#feature dimensions\n",
        "dim=10"
      ],
      "metadata": {
        "id": "UIKszljHFQdA"
      },
      "execution_count": null,
      "outputs": []
    },
    {
      "cell_type": "code",
      "source": [
        "from tensorflow.keras.layers import Input\n",
        "\n",
        "model=Sequential()\n",
        "model.add(Input(shape=(sent_length,)))\n",
        "model.add(Embedding(voc_size,dim))\n",
        "model.compile('adam','mse')"
      ],
      "metadata": {
        "colab": {
          "base_uri": "https://localhost:8080/"
        },
        "id": "VepeUAFJG7nU",
        "outputId": "ad0aebfd-b4b4-46a1-9789-07494d159114"
      },
      "execution_count": null,
      "outputs": [
        {
          "output_type": "stream",
          "name": "stderr",
          "text": [
            "/usr/local/lib/python3.12/dist-packages/keras/src/layers/core/embedding.py:97: UserWarning: Argument `input_length` is deprecated. Just remove it.\n",
            "  warnings.warn(\n",
            "/usr/local/lib/python3.12/dist-packages/keras/src/layers/core/embedding.py:100: UserWarning: Do not pass an `input_shape`/`input_dim` argument to a layer. When using Sequential models, prefer using an `Input(shape)` object as the first layer in the model instead.\n",
            "  super().__init__(**kwargs)\n"
          ]
        }
      ]
    },
    {
      "cell_type": "code",
      "source": [
        "embed_doc[0]"
      ],
      "metadata": {
        "colab": {
          "base_uri": "https://localhost:8080/"
        },
        "id": "tlfLHKfdIEur",
        "outputId": "5fcfb14c-50dc-4d01-cf6a-c0cdefe84724"
      },
      "execution_count": null,
      "outputs": [
        {
          "output_type": "execute_result",
          "data": {
            "text/plain": [
              "array([  0,   0,   0,   0, 200, 946, 692, 337], dtype=int32)"
            ]
          },
          "metadata": {},
          "execution_count": 32
        }
      ]
    },
    {
      "cell_type": "code",
      "source": [
        "model.predict(embed_doc[0])"
      ],
      "metadata": {
        "colab": {
          "base_uri": "https://localhost:8080/"
        },
        "id": "5M2yv7a8HjIe",
        "outputId": "76e75c2c-bb83-4c92-a6fe-962a125f2988"
      },
      "execution_count": null,
      "outputs": [
        {
          "output_type": "stream",
          "name": "stdout",
          "text": [
            "\u001b[1m1/1\u001b[0m \u001b[32m━━━━━━━━━━━━━━━━━━━━\u001b[0m\u001b[37m\u001b[0m \u001b[1m1s\u001b[0m 920ms/step\n"
          ]
        },
        {
          "output_type": "execute_result",
          "data": {
            "text/plain": [
              "array([[ 0.03237459, -0.00799077,  0.03755153, -0.00792255, -0.03091098,\n",
              "         0.00811373, -0.02757977, -0.00482154, -0.00812305, -0.04999191],\n",
              "       [ 0.03237459, -0.00799077,  0.03755153, -0.00792255, -0.03091098,\n",
              "         0.00811373, -0.02757977, -0.00482154, -0.00812305, -0.04999191],\n",
              "       [ 0.03237459, -0.00799077,  0.03755153, -0.00792255, -0.03091098,\n",
              "         0.00811373, -0.02757977, -0.00482154, -0.00812305, -0.04999191],\n",
              "       [ 0.03237459, -0.00799077,  0.03755153, -0.00792255, -0.03091098,\n",
              "         0.00811373, -0.02757977, -0.00482154, -0.00812305, -0.04999191],\n",
              "       [ 0.00677371,  0.00236423, -0.03488078,  0.00692606, -0.00688281,\n",
              "         0.04672189, -0.01197471, -0.03049357, -0.03710916, -0.00830274],\n",
              "       [ 0.02012856,  0.00106065,  0.00348096,  0.03444121,  0.01688092,\n",
              "         0.031378  , -0.00030545,  0.0308046 , -0.03306115, -0.00063796],\n",
              "       [-0.04843182, -0.00568762,  0.03152498, -0.01412028,  0.04741755,\n",
              "         0.04413098, -0.02607059,  0.03962355,  0.01183778, -0.00945796],\n",
              "       [ 0.03094958,  0.00641124, -0.01025627,  0.00806836, -0.00571834,\n",
              "        -0.03598874, -0.02456356, -0.04759599, -0.02709647, -0.00531094]],\n",
              "      dtype=float32)"
            ]
          },
          "metadata": {},
          "execution_count": 30
        }
      ]
    },
    {
      "cell_type": "code",
      "source": [
        "model.predict(np.array(embed_doc).reshape(len(embed_doc), sent_length))"
      ],
      "metadata": {
        "colab": {
          "base_uri": "https://localhost:8080/"
        },
        "collapsed": true,
        "id": "CeAgaM97IbbZ",
        "outputId": "502126a6-d77a-4832-d76c-96f0dc41c260"
      },
      "execution_count": null,
      "outputs": [
        {
          "output_type": "stream",
          "name": "stdout",
          "text": [
            "\u001b[1m1/1\u001b[0m \u001b[32m━━━━━━━━━━━━━━━━━━━━\u001b[0m\u001b[37m\u001b[0m \u001b[1m18s\u001b[0m 18s/step\n"
          ]
        },
        {
          "output_type": "execute_result",
          "data": {
            "text/plain": [
              "array([[[ 3.36581357e-02,  3.35329808e-02,  1.67021863e-02,\n",
              "          1.03000030e-02, -4.82583046e-02,  8.61656666e-03,\n",
              "          3.58529128e-02, -3.74745131e-02,  4.66685370e-03,\n",
              "          2.30204947e-02],\n",
              "        [ 3.36581357e-02,  3.35329808e-02,  1.67021863e-02,\n",
              "          1.03000030e-02, -4.82583046e-02,  8.61656666e-03,\n",
              "          3.58529128e-02, -3.74745131e-02,  4.66685370e-03,\n",
              "          2.30204947e-02],\n",
              "        [ 3.36581357e-02,  3.35329808e-02,  1.67021863e-02,\n",
              "          1.03000030e-02, -4.82583046e-02,  8.61656666e-03,\n",
              "          3.58529128e-02, -3.74745131e-02,  4.66685370e-03,\n",
              "          2.30204947e-02],\n",
              "        [ 3.36581357e-02,  3.35329808e-02,  1.67021863e-02,\n",
              "          1.03000030e-02, -4.82583046e-02,  8.61656666e-03,\n",
              "          3.58529128e-02, -3.74745131e-02,  4.66685370e-03,\n",
              "          2.30204947e-02],\n",
              "        [ 8.26064497e-03, -1.74789205e-02, -2.36160997e-02,\n",
              "          4.52595092e-02,  1.46027915e-02, -2.02371478e-02,\n",
              "         -2.77787577e-02, -4.20920551e-05, -2.45598201e-02,\n",
              "          3.60299274e-03],\n",
              "        [-2.08666325e-02, -1.56603009e-03, -5.40208071e-04,\n",
              "         -2.53747776e-03, -7.74215907e-04,  2.92894281e-02,\n",
              "         -1.08966976e-03, -1.74803734e-02, -3.57526317e-02,\n",
              "          1.02960467e-02],\n",
              "        [ 3.08649614e-03,  3.30025069e-02, -4.15257365e-03,\n",
              "         -2.41916422e-02, -3.95991690e-02, -3.78917083e-02,\n",
              "         -8.58981535e-03,  2.24132054e-02, -2.06864364e-02,\n",
              "          3.55265476e-02],\n",
              "        [ 4.09497134e-02, -4.69143987e-02, -3.61781940e-02,\n",
              "         -1.15362294e-02,  1.86737813e-02, -4.46303859e-02,\n",
              "         -9.69538838e-03, -2.61415374e-02, -4.21954505e-02,\n",
              "          2.57515647e-02]],\n",
              "\n",
              "       [[ 3.36581357e-02,  3.35329808e-02,  1.67021863e-02,\n",
              "          1.03000030e-02, -4.82583046e-02,  8.61656666e-03,\n",
              "          3.58529128e-02, -3.74745131e-02,  4.66685370e-03,\n",
              "          2.30204947e-02],\n",
              "        [ 3.36581357e-02,  3.35329808e-02,  1.67021863e-02,\n",
              "          1.03000030e-02, -4.82583046e-02,  8.61656666e-03,\n",
              "          3.58529128e-02, -3.74745131e-02,  4.66685370e-03,\n",
              "          2.30204947e-02],\n",
              "        [ 3.36581357e-02,  3.35329808e-02,  1.67021863e-02,\n",
              "          1.03000030e-02, -4.82583046e-02,  8.61656666e-03,\n",
              "          3.58529128e-02, -3.74745131e-02,  4.66685370e-03,\n",
              "          2.30204947e-02],\n",
              "        [ 3.36581357e-02,  3.35329808e-02,  1.67021863e-02,\n",
              "          1.03000030e-02, -4.82583046e-02,  8.61656666e-03,\n",
              "          3.58529128e-02, -3.74745131e-02,  4.66685370e-03,\n",
              "          2.30204947e-02],\n",
              "        [ 8.26064497e-03, -1.74789205e-02, -2.36160997e-02,\n",
              "          4.52595092e-02,  1.46027915e-02, -2.02371478e-02,\n",
              "         -2.77787577e-02, -4.20920551e-05, -2.45598201e-02,\n",
              "          3.60299274e-03],\n",
              "        [-2.08666325e-02, -1.56603009e-03, -5.40208071e-04,\n",
              "         -2.53747776e-03, -7.74215907e-04,  2.92894281e-02,\n",
              "         -1.08966976e-03, -1.74803734e-02, -3.57526317e-02,\n",
              "          1.02960467e-02],\n",
              "        [ 3.08649614e-03,  3.30025069e-02, -4.15257365e-03,\n",
              "         -2.41916422e-02, -3.95991690e-02, -3.78917083e-02,\n",
              "         -8.58981535e-03,  2.24132054e-02, -2.06864364e-02,\n",
              "          3.55265476e-02],\n",
              "        [ 1.50837339e-02,  1.16218217e-02,  2.04757191e-02,\n",
              "         -3.85594852e-02,  4.08548750e-02, -9.24808905e-03,\n",
              "          2.08698213e-04,  1.59996748e-03,  1.23834498e-02,\n",
              "          1.41091384e-02]],\n",
              "\n",
              "       [[ 3.36581357e-02,  3.35329808e-02,  1.67021863e-02,\n",
              "          1.03000030e-02, -4.82583046e-02,  8.61656666e-03,\n",
              "          3.58529128e-02, -3.74745131e-02,  4.66685370e-03,\n",
              "          2.30204947e-02],\n",
              "        [ 3.36581357e-02,  3.35329808e-02,  1.67021863e-02,\n",
              "          1.03000030e-02, -4.82583046e-02,  8.61656666e-03,\n",
              "          3.58529128e-02, -3.74745131e-02,  4.66685370e-03,\n",
              "          2.30204947e-02],\n",
              "        [ 3.36581357e-02,  3.35329808e-02,  1.67021863e-02,\n",
              "          1.03000030e-02, -4.82583046e-02,  8.61656666e-03,\n",
              "          3.58529128e-02, -3.74745131e-02,  4.66685370e-03,\n",
              "          2.30204947e-02],\n",
              "        [ 3.36581357e-02,  3.35329808e-02,  1.67021863e-02,\n",
              "          1.03000030e-02, -4.82583046e-02,  8.61656666e-03,\n",
              "          3.58529128e-02, -3.74745131e-02,  4.66685370e-03,\n",
              "          2.30204947e-02],\n",
              "        [ 8.26064497e-03, -1.74789205e-02, -2.36160997e-02,\n",
              "          4.52595092e-02,  1.46027915e-02, -2.02371478e-02,\n",
              "         -2.77787577e-02, -4.20920551e-05, -2.45598201e-02,\n",
              "          3.60299274e-03],\n",
              "        [ 1.22925267e-02,  1.77919157e-02, -3.17893401e-02,\n",
              "         -1.60605423e-02,  2.10548975e-02, -3.63657475e-02,\n",
              "          1.42964385e-02, -3.80859599e-02, -4.05485742e-02,\n",
              "         -3.31423879e-02],\n",
              "        [ 3.08649614e-03,  3.30025069e-02, -4.15257365e-03,\n",
              "         -2.41916422e-02, -3.95991690e-02, -3.78917083e-02,\n",
              "         -8.58981535e-03,  2.24132054e-02, -2.06864364e-02,\n",
              "          3.55265476e-02],\n",
              "        [-4.43194285e-02, -3.48546878e-02, -1.44991651e-02,\n",
              "         -2.75696646e-02, -8.89300182e-03,  4.61026318e-02,\n",
              "         -4.65763919e-02, -9.21301916e-03, -2.17199810e-02,\n",
              "          3.35898884e-02]],\n",
              "\n",
              "       [[ 3.36581357e-02,  3.35329808e-02,  1.67021863e-02,\n",
              "          1.03000030e-02, -4.82583046e-02,  8.61656666e-03,\n",
              "          3.58529128e-02, -3.74745131e-02,  4.66685370e-03,\n",
              "          2.30204947e-02],\n",
              "        [ 3.36581357e-02,  3.35329808e-02,  1.67021863e-02,\n",
              "          1.03000030e-02, -4.82583046e-02,  8.61656666e-03,\n",
              "          3.58529128e-02, -3.74745131e-02,  4.66685370e-03,\n",
              "          2.30204947e-02],\n",
              "        [ 3.36581357e-02,  3.35329808e-02,  1.67021863e-02,\n",
              "          1.03000030e-02, -4.82583046e-02,  8.61656666e-03,\n",
              "          3.58529128e-02, -3.74745131e-02,  4.66685370e-03,\n",
              "          2.30204947e-02],\n",
              "        [ 3.36581357e-02,  3.35329808e-02,  1.67021863e-02,\n",
              "          1.03000030e-02, -4.82583046e-02,  8.61656666e-03,\n",
              "          3.58529128e-02, -3.74745131e-02,  4.66685370e-03,\n",
              "          2.30204947e-02],\n",
              "        [-2.46093869e-02, -1.79042444e-02, -3.45021486e-02,\n",
              "          2.44881846e-02, -3.17499526e-02,  1.65390968e-03,\n",
              "          3.45833786e-02,  4.15923037e-02, -2.04598065e-02,\n",
              "          1.87206008e-02],\n",
              "        [-2.73349769e-02, -1.03147626e-02,  2.47572735e-03,\n",
              "          1.88780464e-02,  3.78273465e-02,  4.45743240e-02,\n",
              "         -3.33037525e-02, -3.50514054e-02, -2.98206210e-02,\n",
              "          1.25795938e-02],\n",
              "        [ 1.16835237e-02, -1.18417628e-02,  3.47301252e-02,\n",
              "         -4.93400805e-02,  2.33731419e-03, -4.59685326e-02,\n",
              "          3.69784348e-02,  2.75587179e-02, -9.08378512e-03,\n",
              "         -3.14312577e-02],\n",
              "        [ 9.57577303e-03,  3.49511839e-02,  3.72812897e-03,\n",
              "         -7.41885975e-03, -4.45232764e-02,  6.48475811e-03,\n",
              "         -1.52593032e-02, -3.05822250e-02, -1.42537579e-02,\n",
              "          4.37123664e-02]],\n",
              "\n",
              "       [[ 3.36581357e-02,  3.35329808e-02,  1.67021863e-02,\n",
              "          1.03000030e-02, -4.82583046e-02,  8.61656666e-03,\n",
              "          3.58529128e-02, -3.74745131e-02,  4.66685370e-03,\n",
              "          2.30204947e-02],\n",
              "        [ 3.36581357e-02,  3.35329808e-02,  1.67021863e-02,\n",
              "          1.03000030e-02, -4.82583046e-02,  8.61656666e-03,\n",
              "          3.58529128e-02, -3.74745131e-02,  4.66685370e-03,\n",
              "          2.30204947e-02],\n",
              "        [ 3.36581357e-02,  3.35329808e-02,  1.67021863e-02,\n",
              "          1.03000030e-02, -4.82583046e-02,  8.61656666e-03,\n",
              "          3.58529128e-02, -3.74745131e-02,  4.66685370e-03,\n",
              "          2.30204947e-02],\n",
              "        [ 3.36581357e-02,  3.35329808e-02,  1.67021863e-02,\n",
              "          1.03000030e-02, -4.82583046e-02,  8.61656666e-03,\n",
              "          3.58529128e-02, -3.74745131e-02,  4.66685370e-03,\n",
              "          2.30204947e-02],\n",
              "        [-2.46093869e-02, -1.79042444e-02, -3.45021486e-02,\n",
              "          2.44881846e-02, -3.17499526e-02,  1.65390968e-03,\n",
              "          3.45833786e-02,  4.15923037e-02, -2.04598065e-02,\n",
              "          1.87206008e-02],\n",
              "        [-2.73349769e-02, -1.03147626e-02,  2.47572735e-03,\n",
              "          1.88780464e-02,  3.78273465e-02,  4.45743240e-02,\n",
              "         -3.33037525e-02, -3.50514054e-02, -2.98206210e-02,\n",
              "          1.25795938e-02],\n",
              "        [ 1.16835237e-02, -1.18417628e-02,  3.47301252e-02,\n",
              "         -4.93400805e-02,  2.33731419e-03, -4.59685326e-02,\n",
              "          3.69784348e-02,  2.75587179e-02, -9.08378512e-03,\n",
              "         -3.14312577e-02],\n",
              "        [ 1.49650089e-02,  2.74371393e-02, -3.04352529e-02,\n",
              "          2.11440586e-02, -9.04179737e-03, -3.82599607e-02,\n",
              "          2.74189375e-02,  4.73419689e-02, -3.06365490e-02,\n",
              "         -8.86584446e-03]],\n",
              "\n",
              "       [[ 3.36581357e-02,  3.35329808e-02,  1.67021863e-02,\n",
              "          1.03000030e-02, -4.82583046e-02,  8.61656666e-03,\n",
              "          3.58529128e-02, -3.74745131e-02,  4.66685370e-03,\n",
              "          2.30204947e-02],\n",
              "        [ 3.36581357e-02,  3.35329808e-02,  1.67021863e-02,\n",
              "          1.03000030e-02, -4.82583046e-02,  8.61656666e-03,\n",
              "          3.58529128e-02, -3.74745131e-02,  4.66685370e-03,\n",
              "          2.30204947e-02],\n",
              "        [-2.46093869e-02, -1.79042444e-02, -3.45021486e-02,\n",
              "          2.44881846e-02, -3.17499526e-02,  1.65390968e-03,\n",
              "          3.45833786e-02,  4.15923037e-02, -2.04598065e-02,\n",
              "          1.87206008e-02],\n",
              "        [-2.73349769e-02, -1.03147626e-02,  2.47572735e-03,\n",
              "          1.88780464e-02,  3.78273465e-02,  4.45743240e-02,\n",
              "         -3.33037525e-02, -3.50514054e-02, -2.98206210e-02,\n",
              "          1.25795938e-02],\n",
              "        [-4.65822220e-02, -2.24191677e-02,  1.10441931e-02,\n",
              "         -3.92739996e-02,  4.40246202e-02, -2.35675815e-02,\n",
              "         -2.62846593e-02,  2.28544362e-02,  1.36360563e-02,\n",
              "          7.73370266e-03],\n",
              "        [-3.06187272e-02, -2.71049142e-02,  4.78403233e-02,\n",
              "          3.46588530e-02,  4.00670283e-02, -1.30373836e-02,\n",
              "          7.71576166e-03,  4.12222408e-02, -8.36521387e-03,\n",
              "         -3.13247442e-02],\n",
              "        [ 1.16835237e-02, -1.18417628e-02,  3.47301252e-02,\n",
              "         -4.93400805e-02,  2.33731419e-03, -4.59685326e-02,\n",
              "          3.69784348e-02,  2.75587179e-02, -9.08378512e-03,\n",
              "         -3.14312577e-02],\n",
              "        [ 1.49650089e-02,  2.74371393e-02, -3.04352529e-02,\n",
              "          2.11440586e-02, -9.04179737e-03, -3.82599607e-02,\n",
              "          2.74189375e-02,  4.73419689e-02, -3.06365490e-02,\n",
              "         -8.86584446e-03]]], dtype=float32)"
            ]
          },
          "metadata": {},
          "execution_count": 43
        }
      ]
    },
    {
      "cell_type": "code",
      "source": [
        "model.summary()"
      ],
      "metadata": {
        "colab": {
          "base_uri": "https://localhost:8080/",
          "height": 161
        },
        "id": "RhhFCaCgHT6x",
        "outputId": "c32e5ccb-d2cd-4450-ef67-f15f3279424d"
      },
      "execution_count": null,
      "outputs": [
        {
          "output_type": "display_data",
          "data": {
            "text/plain": [
              "\u001b[1mModel: \"sequential_6\"\u001b[0m\n"
            ],
            "text/html": [
              "<pre style=\"white-space:pre;overflow-x:auto;line-height:normal;font-family:Menlo,'DejaVu Sans Mono',consolas,'Courier New',monospace\"><span style=\"font-weight: bold\">Model: \"sequential_6\"</span>\n",
              "</pre>\n"
            ]
          },
          "metadata": {}
        },
        {
          "output_type": "display_data",
          "data": {
            "text/plain": [
              "┏━━━━━━━━━━━━━━━━━━━━━━━━━━━━━━━━━┳━━━━━━━━━━━━━━━━━━━━━━━━┳━━━━━━━━━━━━━━━┓\n",
              "┃\u001b[1m \u001b[0m\u001b[1mLayer (type)                   \u001b[0m\u001b[1m \u001b[0m┃\u001b[1m \u001b[0m\u001b[1mOutput Shape          \u001b[0m\u001b[1m \u001b[0m┃\u001b[1m \u001b[0m\u001b[1m      Param #\u001b[0m\u001b[1m \u001b[0m┃\n",
              "┡━━━━━━━━━━━━━━━━━━━━━━━━━━━━━━━━━╇━━━━━━━━━━━━━━━━━━━━━━━━╇━━━━━━━━━━━━━━━┩\n",
              "│ embedding_5 (\u001b[38;5;33mEmbedding\u001b[0m)         │ (\u001b[38;5;45mNone\u001b[0m, \u001b[38;5;34m8\u001b[0m, \u001b[38;5;34m10\u001b[0m)          │        \u001b[38;5;34m10,000\u001b[0m │\n",
              "└─────────────────────────────────┴────────────────────────┴───────────────┘\n"
            ],
            "text/html": [
              "<pre style=\"white-space:pre;overflow-x:auto;line-height:normal;font-family:Menlo,'DejaVu Sans Mono',consolas,'Courier New',monospace\">┏━━━━━━━━━━━━━━━━━━━━━━━━━━━━━━━━━┳━━━━━━━━━━━━━━━━━━━━━━━━┳━━━━━━━━━━━━━━━┓\n",
              "┃<span style=\"font-weight: bold\"> Layer (type)                    </span>┃<span style=\"font-weight: bold\"> Output Shape           </span>┃<span style=\"font-weight: bold\">       Param # </span>┃\n",
              "┡━━━━━━━━━━━━━━━━━━━━━━━━━━━━━━━━━╇━━━━━━━━━━━━━━━━━━━━━━━━╇━━━━━━━━━━━━━━━┩\n",
              "│ embedding_5 (<span style=\"color: #0087ff; text-decoration-color: #0087ff\">Embedding</span>)         │ (<span style=\"color: #00d7ff; text-decoration-color: #00d7ff\">None</span>, <span style=\"color: #00af00; text-decoration-color: #00af00\">8</span>, <span style=\"color: #00af00; text-decoration-color: #00af00\">10</span>)          │        <span style=\"color: #00af00; text-decoration-color: #00af00\">10,000</span> │\n",
              "└─────────────────────────────────┴────────────────────────┴───────────────┘\n",
              "</pre>\n"
            ]
          },
          "metadata": {}
        },
        {
          "output_type": "display_data",
          "data": {
            "text/plain": [
              "\u001b[1m Total params: \u001b[0m\u001b[38;5;34m10,000\u001b[0m (39.06 KB)\n"
            ],
            "text/html": [
              "<pre style=\"white-space:pre;overflow-x:auto;line-height:normal;font-family:Menlo,'DejaVu Sans Mono',consolas,'Courier New',monospace\"><span style=\"font-weight: bold\"> Total params: </span><span style=\"color: #00af00; text-decoration-color: #00af00\">10,000</span> (39.06 KB)\n",
              "</pre>\n"
            ]
          },
          "metadata": {}
        },
        {
          "output_type": "display_data",
          "data": {
            "text/plain": [
              "\u001b[1m Trainable params: \u001b[0m\u001b[38;5;34m10,000\u001b[0m (39.06 KB)\n"
            ],
            "text/html": [
              "<pre style=\"white-space:pre;overflow-x:auto;line-height:normal;font-family:Menlo,'DejaVu Sans Mono',consolas,'Courier New',monospace\"><span style=\"font-weight: bold\"> Trainable params: </span><span style=\"color: #00af00; text-decoration-color: #00af00\">10,000</span> (39.06 KB)\n",
              "</pre>\n"
            ]
          },
          "metadata": {}
        },
        {
          "output_type": "display_data",
          "data": {
            "text/plain": [
              "\u001b[1m Non-trainable params: \u001b[0m\u001b[38;5;34m0\u001b[0m (0.00 B)\n"
            ],
            "text/html": [
              "<pre style=\"white-space:pre;overflow-x:auto;line-height:normal;font-family:Menlo,'DejaVu Sans Mono',consolas,'Courier New',monospace\"><span style=\"font-weight: bold\"> Non-trainable params: </span><span style=\"color: #00af00; text-decoration-color: #00af00\">0</span> (0.00 B)\n",
              "</pre>\n"
            ]
          },
          "metadata": {}
        }
      ]
    },
    {
      "cell_type": "code",
      "source": [],
      "metadata": {
        "id": "77LRD7ZIJ99f"
      },
      "execution_count": null,
      "outputs": []
    }
  ]
}